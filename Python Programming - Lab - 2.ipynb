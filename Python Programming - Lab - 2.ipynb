{
 "cells": [
  {
   "cell_type": "markdown",
   "metadata": {},
   "source": [
    "\n",
    "<a href='https://www.darshan.ac.in/'> <img src='https://www.darshan.ac.in/Content/media/DU_Logo.svg' width=\"250\" height=\"300\"/></a>\n",
    "<pre>\n",
    "<center><b><h1>Python Programming - 2101CS405</b></center>\n",
    "<center><b><h1>Lab - 2</b></center>    \n",
    "<pre>"
   ]
  },
  {
   "cell_type": "markdown",
   "metadata": {},
   "source": [
    "# if..else.."
   ]
  },
  {
   "cell_type": "markdown",
   "metadata": {},
   "source": [
    "### 01) WAP to check whether the given number is positive or negative."
   ]
  },
  {
   "cell_type": "code",
   "execution_count": 5,
   "metadata": {},
   "outputs": [
    {
     "name": "stdout",
     "output_type": "stream",
     "text": [
      "enter a number2\n",
      "number is positive\n"
     ]
    }
   ],
   "source": [
    "N=int (input(\"enter a number\"))\n",
    "if N>0:\n",
    "    print(\"number is positive\")\n",
    "else:\n",
    "    print(\"number is negative\")\n",
    "    "
   ]
  },
  {
   "cell_type": "markdown",
   "metadata": {},
   "source": [
    "### 02) WAP to check whether the given number is odd or even"
   ]
  },
  {
   "cell_type": "code",
   "execution_count": 7,
   "metadata": {},
   "outputs": [
    {
     "name": "stdout",
     "output_type": "stream",
     "text": [
      "enter a number3\n",
      "number is odd\n"
     ]
    }
   ],
   "source": [
    "N=int(input(\"enter a number\"))\n",
    "if N%2==0:\n",
    "    print(\"number is even\")\n",
    "else:\n",
    "    print(\"number is odd\")"
   ]
  },
  {
   "cell_type": "markdown",
   "metadata": {},
   "source": [
    "### 03) WAP to find out largest number from given two numbers using simple if and ternary operator."
   ]
  },
  {
   "cell_type": "code",
   "execution_count": 8,
   "metadata": {},
   "outputs": [
    {
     "name": "stdout",
     "output_type": "stream",
     "text": [
      "enter A2\n",
      "enter B3\n",
      "B is largest\n",
      "3 is largest\n"
     ]
    }
   ],
   "source": [
    "A=int(input(\"enter A\"))\n",
    "B=int(input(\"enter B\"))\n",
    "if A>B:\n",
    "    print(\"A is largest\")\n",
    "else:\n",
    "    print(\"B is largest\")\n",
    "max=A if A>B else B\n",
    "print(max ,\"is largest\")"
   ]
  },
  {
   "cell_type": "markdown",
   "metadata": {},
   "source": [
    "### 04) WAP to find out largest number from given three numbers."
   ]
  },
  {
   "cell_type": "code",
   "execution_count": 11,
   "metadata": {},
   "outputs": [
    {
     "name": "stdout",
     "output_type": "stream",
     "text": [
      "enter A2\n",
      "enter B4\n",
      "enter C3\n",
      "B is largest\n"
     ]
    }
   ],
   "source": [
    "A=int(input(\"enter A\"))\n",
    "B=int(input(\"enter B\"))\n",
    "C=int(input(\"enter C\"))\n",
    "if A>B:\n",
    "    if A>C:\n",
    "        print(\"A is largest\")\n",
    "    else:\n",
    "        print(\"C is largest\")\n",
    "else:\n",
    "    if B>C:\n",
    "        print(\"B is largest\")\n",
    "    else:\n",
    "        print(\"C is largest\")"
   ]
  },
  {
   "cell_type": "markdown",
   "metadata": {},
   "source": [
    "### 05) WAP to check whether the given year is leap year or not.\n",
    "[If a year can be divisible by 4 but not divisible by 100 then it is leap year but if it is divisible by 400 then it is leap year]"
   ]
  },
  {
   "cell_type": "code",
   "execution_count": 14,
   "metadata": {},
   "outputs": [
    {
     "name": "stdout",
     "output_type": "stream",
     "text": [
      "Enter a year2000\n",
      "year is leap year\n"
     ]
    }
   ],
   "source": [
    "Y=int(input(\"Enter a year\"))\n",
    "if Y%400==0:\n",
    "    print(\"year is leap year\")\n",
    "elif Y%4==0 and Y%100!=0:\n",
    "    print(\"year is leap year\")\n",
    "else:\n",
    "    print(\"year is not leap year\")\n"
   ]
  },
  {
   "cell_type": "markdown",
   "metadata": {},
   "source": [
    "### 06) WAP in python to display the name of the day according to the number given by the user"
   ]
  },
  {
   "cell_type": "code",
   "execution_count": 16,
   "metadata": {},
   "outputs": [
    {
     "name": "stdout",
     "output_type": "stream",
     "text": [
      "enter a number for finding day8\n",
      "Please Enter the number between 0-6\n"
     ]
    }
   ],
   "source": [
    "D=int(input(\"enter a number for finding day\"))\n",
    "if D==0:\n",
    "    print(\"day is sunday\")\n",
    "elif D==1:\n",
    "    print(\"day is monday\")\n",
    "elif D==2:\n",
    "    print(\"day is Tuesday\")\n",
    "elif D==3:\n",
    "    print(\"day is Wednesday\")\n",
    "elif D==4:\n",
    "    print(\"day is thursday\")\n",
    "elif D==5:\n",
    "    print(\"day is Friday\")\n",
    "elif D==6:\n",
    "    print(\"day is Suturday\")\n",
    "else:\n",
    "    print(\"Please Enter the number between 0-6\")\n"
   ]
  },
  {
   "cell_type": "markdown",
   "metadata": {},
   "source": [
    "### 07) WAP to implement simple calculator which performs (add,sub,mul,div) of two no. based on user input."
   ]
  },
  {
   "cell_type": "code",
   "execution_count": 20,
   "metadata": {},
   "outputs": [
    {
     "name": "stdout",
     "output_type": "stream",
     "text": [
      "enter A6\n",
      "enter B3\n",
      "plz enter operation/\n",
      "2.0\n"
     ]
    }
   ],
   "source": [
    "A=int(input(\"enter A\"))\n",
    "B=int(input(\"enter B\"))\n",
    "C=input(\"plz enter operation\")\n",
    "if C==\"+\":\n",
    "    print(A+B)\n",
    "elif C==\"-\":\n",
    "    print(A-B)\n",
    "elif C==\"*\":\n",
    "    print(A*B)\n",
    "elif C==\"/\":\n",
    "    print(A/B)\n",
    "else:\n",
    "    print(\"plzz Enter operation +,-,*,/\")\n",
    " \n"
   ]
  },
  {
   "cell_type": "markdown",
   "metadata": {},
   "source": [
    "### 08) WAP to calculate electricity bill based on following criteria. Which takes the unit from the user.\n",
    "a. First 1 to 50 units – Rs. 2.60/unit</br>\n",
    "b. Next 50 to 100 units – Rs. 3.25/unit</br>\n",
    "c. Next 100 to 200 units – Rs. 5.26/unit</br>\n",
    "d. above 200 units – Rs. 8.45/unit"
   ]
  },
  {
   "cell_type": "code",
   "execution_count": 26,
   "metadata": {},
   "outputs": [
    {
     "name": "stdout",
     "output_type": "stream",
     "text": [
      "Enter a value of unit500\n"
     ]
    },
    {
     "data": {
      "text/plain": [
       "3353.5"
      ]
     },
     "execution_count": 26,
     "metadata": {},
     "output_type": "execute_result"
    }
   ],
   "source": [
    "N=int(input(\"Enter a value of unit\"))\n",
    "charge=0;\n",
    "if N>200:\n",
    "    charge+=(N-200)*8.45;\n",
    "    N=200;\n",
    "if N>100 and N<=200:\n",
    "    charge+=(N-100)*5.26;\n",
    "    N=100;\n",
    "if N>50 and N<=100:\n",
    "    charge+=(N-50)*3.25;\n",
    "    N=50;\n",
    "if N>1 and N<=50:\n",
    "    charge+=(N)*2.60;\n",
    "else:\n",
    "    print(\"please Enter Valid Input\")\n",
    "charge"
   ]
  },
  {
   "cell_type": "markdown",
   "metadata": {},
   "source": [
    "\n",
    "### 01) WAP to read marks of five subjects. Calculate percentage and print class accordingly. \n",
    "Fail below 35 </br>\n",
    "Pass Class between 35 to 45 </br>\n",
    "Second Class</br>\n",
    "between 45 to 60</br>\n",
    "First Class between 60 to 70</br> \n",
    "Distinction if more than 70"
   ]
  },
  {
   "cell_type": "code",
   "execution_count": 29,
   "metadata": {},
   "outputs": [
    {
     "name": "stdout",
     "output_type": "stream",
     "text": [
      "Enter marks of maths80\n",
      "Enter marks of Science90\n",
      "Enter marks of english90\n",
      "Enter marks of computer90\n",
      "Enter marks of gujrati90\n",
      "congratulations you passed exam with Distinction\n"
     ]
    }
   ],
   "source": [
    "A=int(input(\"Enter marks of maths\"))\n",
    "B=int(input(\"Enter marks of Science\"))\n",
    "C=int(input(\"Enter marks of english\"))\n",
    "D=int(input(\"Enter marks of computer\"))\n",
    "E=int(input(\"Enter marks of gujrati\"))\n",
    "Avg=(A+B+C+D+E)/5\n",
    "if Avg<=35:\n",
    "    print(\"sorry you failed\")\n",
    "elif Avg>35 and Avg<=45:\n",
    "    print(\"congratulations you passed exam\")\n",
    "elif Avg>45 and Avg<=60:\n",
    "    print(\"congratulations you passed exam with Second class\")\n",
    "elif Avg>60 and Avg<=70:\n",
    "    print(\"congratulations you passed exam with First class\")\n",
    "elif Avg>70:\n",
    "    print(\"congratulations you passed exam with Distinction\")\n",
    "else:\n",
    "    print(\"please enter valid input\")"
   ]
  },
  {
   "cell_type": "markdown",
   "metadata": {},
   "source": [
    "### 02) WAP to find out the Maximum and Minimum number from given 4 numbers."
   ]
  },
  {
   "cell_type": "code",
   "execution_count": 3,
   "metadata": {},
   "outputs": [
    {
     "name": "stdout",
     "output_type": "stream",
     "text": [
      "Enter number A3\n",
      "Enter number B4\n",
      "Enter number C5\n",
      "Enter number D6\n",
      "Max is 6\n",
      "Min is 3\n"
     ]
    }
   ],
   "source": [
    "A=int(input(\"Enter number A\"))\n",
    "B=int(input(\"Enter number B\"))\n",
    "C=int(input(\"Enter number C\"))\n",
    "D=int(input(\"Enter number D\"))\n",
    "Max1=A if A>B else B\n",
    "Max2=C if C>D else D\n",
    "Maxfinal=Max1 if Max1>Max2 else Max2\n",
    "\n",
    "print(\"Max is\",Maxfinal)\n",
    "\n",
    "Min1=A if A<B else B\n",
    "Min2=C if C<D else D\n",
    "Minfinal=Min1 if Min1<Min2 else Min2\n",
    "\n",
    "print(\"Min is\",Minfinal)"
   ]
  },
  {
   "cell_type": "code",
   "execution_count": null,
   "metadata": {},
   "outputs": [],
   "source": []
  },
  {
   "cell_type": "markdown",
   "metadata": {},
   "source": [
    "### 03) WAP to input an integer number and check the last digit of number is even or odd."
   ]
  },
  {
   "cell_type": "code",
   "execution_count": 2,
   "metadata": {},
   "outputs": [
    {
     "name": "stdout",
     "output_type": "stream",
     "text": [
      "enter the number for the find the number of digit of your number12\n"
     ]
    },
    {
     "data": {
      "text/plain": [
       "2"
      ]
     },
     "execution_count": 2,
     "metadata": {},
     "output_type": "execute_result"
    }
   ],
   "source": [
    "number=int(input(\"enter the number for the find the number of digit of your number\"))\n",
    "count=0\n",
    "\n",
    "while number!=0:\n",
    "    number=int(number/10);\n",
    "    count+=1\n",
    "    \n",
    "count"
   ]
  },
  {
   "cell_type": "markdown",
   "metadata": {},
   "source": [
    "### 04) WAP to determine the roots of the equation ax2+bx+c=0."
   ]
  },
  {
   "cell_type": "code",
   "execution_count": 6,
   "metadata": {},
   "outputs": [
    {
     "name": "stdout",
     "output_type": "stream",
     "text": [
      "enter the value of a in ax2+bx+c=0, a=1\n",
      "enter the value of b in ax2+bx+c=0, b=13\n",
      "enter the value of c in ax2+bx+c=0, c=30\n",
      "49\n",
      "root 1: -3.0\n",
      "root 2: -10.0\n"
     ]
    }
   ],
   "source": [
    "a=int(input(\"enter the value of a in ax2+bx+c=0, a=\"))\n",
    "b=int(input(\"enter the value of b in ax2+bx+c=0, b=\"))\n",
    "c=int(input(\"enter the value of c in ax2+bx+c=0, c=\"))\n",
    "\n",
    "d=b**2-4*a*c\n",
    "print(d)\n",
    "if a==0:\n",
    "    print(\"please enter valid input\")\n",
    "elif d<0:\n",
    "    print(\"root 1:\",(-b)/2*a,\"+i\",((-d)**.5)/2*a)\n",
    "    print(\"root 2:\",(-b)/2*a,\"-i\",((-d)**.5)/2*a)\n",
    "    \n",
    "elif d>0:\n",
    "    print(\"root 1:\",(-b+(d**.5))/2*a)\n",
    "    print(\"root 2:\",(-b-(d**.5))/2*a)\n",
    "else:\n",
    "    print(\"root 1 and root 2 both are same , cause D=0:\",-b/2*a)"
   ]
  },
  {
   "cell_type": "code",
   "execution_count": null,
   "metadata": {},
   "outputs": [],
   "source": []
  }
 ],
 "metadata": {
  "kernelspec": {
   "display_name": "Python 3 (ipykernel)",
   "language": "python",
   "name": "python3"
  },
  "language_info": {
   "codemirror_mode": {
    "name": "ipython",
    "version": 3
   },
   "file_extension": ".py",
   "mimetype": "text/x-python",
   "name": "python",
   "nbconvert_exporter": "python",
   "pygments_lexer": "ipython3",
   "version": "3.9.13"
  }
 },
 "nbformat": 4,
 "nbformat_minor": 4
}
