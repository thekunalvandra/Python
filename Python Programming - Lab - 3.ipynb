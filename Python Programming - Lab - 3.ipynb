{
 "cells": [
  {
   "cell_type": "markdown",
   "metadata": {},
   "source": [
    "\n",
    "<a href='https://www.darshan.ac.in/'> <img src='https://www.darshan.ac.in/Content/media/DU_Logo.svg' width=\"250\" height=\"300\"/></a>\n",
    "<pre>\n",
    "<center><b><h1>Python Programming - 2101CS405</b></center>\n",
    "<center><b><h1>Lab - 3</b></center>    \n",
    "<pre>"
   ]
  },
  {
   "cell_type": "markdown",
   "metadata": {},
   "source": [
    "# for and while loop"
   ]
  },
  {
   "cell_type": "markdown",
   "metadata": {},
   "source": [
    "### 01) WAP to print 1 to 10"
   ]
  },
  {
   "cell_type": "code",
   "execution_count": 1,
   "metadata": {},
   "outputs": [
    {
     "name": "stdout",
     "output_type": "stream",
     "text": [
      "1 2 3 4 5 6 7 8 9 10 \n",
      "1 2 3 4 5 6 7 8 9 10 "
     ]
    }
   ],
   "source": [
    "number=1\n",
    "while number<=10:\n",
    "    print(number , end=\" \")\n",
    "    number=number+1\n",
    "print();\n",
    "for x in range( 1, 11):\n",
    "    print(x, end=\" \")"
   ]
  },
  {
   "cell_type": "markdown",
   "metadata": {},
   "source": [
    "### 02) WAP to print 1 to n"
   ]
  },
  {
   "cell_type": "code",
   "execution_count": 4,
   "metadata": {},
   "outputs": [
    {
     "name": "stdout",
     "output_type": "stream",
     "text": [
      "enter the value of n print 1 to n :20\n",
      "1 2 3 4 5 6 7 8 9 10 11 12 13 14 15 16 17 18 19 20 \n",
      "1 2 3 4 5 6 7 8 9 10 11 12 13 14 15 16 17 18 19 20 "
     ]
    }
   ],
   "source": [
    "n =int(input(\"enter the value of n print 1 to n :\"))\n",
    "number=1\n",
    "while number<=n:\n",
    "    print(number , end=\" \")\n",
    "    number=number+1\n",
    "print();\n",
    "for x in range (1,n+1):\n",
    "    print(x, end=\" \")    "
   ]
  },
  {
   "cell_type": "markdown",
   "metadata": {},
   "source": [
    "### 03) WAP to print odd numbers between 1 to n"
   ]
  },
  {
   "cell_type": "code",
   "execution_count": 10,
   "metadata": {},
   "outputs": [
    {
     "name": "stdout",
     "output_type": "stream",
     "text": [
      "enter the value of n for the print odd number :12\n",
      "1 3 5 7 9 11 \n",
      "1 3 5 7 9 11 "
     ]
    }
   ],
   "source": [
    "n =int(input(\"enter the value of n for the print odd number :\"))\n",
    "number=0\n",
    "while number<=n:\n",
    "    if number%2!=0:\n",
    "        print(number , end=\" \")\n",
    "    number=number+1\n",
    "print()\n",
    "for x in range (0,n+1):\n",
    "    if x%2!=0:\n",
    "        print(x , end=\" \")\n"
   ]
  },
  {
   "cell_type": "markdown",
   "metadata": {},
   "source": [
    "### 04) WAP to print numbers between two given numbers which is divisible by 2 but not divisible by 3"
   ]
  },
  {
   "cell_type": "code",
   "execution_count": 11,
   "metadata": {},
   "outputs": [
    {
     "name": "stdout",
     "output_type": "stream",
     "text": [
      "enter the value of n for the print number is divisible by 2 but not by 3:12\n",
      "2 4 8 10 \n",
      "2 4 8 10 "
     ]
    }
   ],
   "source": [
    "n =int(input(\"enter the value of n for the print number is divisible by 2 but not by 3:\"))\n",
    "number=0\n",
    "while number<=n:\n",
    "    if number%2==0 and number%3!=0:\n",
    "        print(number , end=\" \")\n",
    "    number=number+1\n",
    "print()\n",
    "for x in range(1,n+1):\n",
    "    if x%2==0 and x%3!=0:\n",
    "        print(x,end=\" \")\n",
    "    "
   ]
  },
  {
   "cell_type": "markdown",
   "metadata": {},
   "source": [
    "### 05) WAP to print sum of 1 to n numbers"
   ]
  },
  {
   "cell_type": "code",
   "execution_count": 10,
   "metadata": {},
   "outputs": [
    {
     "name": "stdout",
     "output_type": "stream",
     "text": [
      "enter the value of n for sum of 1 to n number:10\n",
      "sum of 1 to  10  is : 55\n"
     ]
    }
   ],
   "source": [
    "n =int(input(\"enter the value of n for sum of 1 to n number:\"))\n",
    "number=0\n",
    "sum=0;\n",
    "while number<=n:\n",
    "    sum=sum+number;\n",
    "    number=number+1\n",
    "print(\"sum of 1 to \" , n , \" is :\" , sum) "
   ]
  },
  {
   "cell_type": "markdown",
   "metadata": {},
   "source": [
    "### 06) WAP to print sum of series 1 + 4 + 9 + 16 + 25 + 36 + ...n"
   ]
  },
  {
   "cell_type": "code",
   "execution_count": 12,
   "metadata": {},
   "outputs": [
    {
     "name": "stdout",
     "output_type": "stream",
     "text": [
      "enter the value of n for sum of 1 to n number of squre:3\n",
      "sum  squer of 1 to  3  is : 14\n"
     ]
    }
   ],
   "source": [
    "n =int(input(\"enter the value of n for sum of 1 to n number of squre:\"))\n",
    "number=0\n",
    "sum=0;\n",
    "while number<=n:\n",
    "    sum=sum+number*number;\n",
    "    number=number+1;\n",
    "    \n",
    "print(\"sum  squer of 1 to \" , n , \" is :\" , sum) "
   ]
  },
  {
   "cell_type": "markdown",
   "metadata": {},
   "source": [
    "### 07) WAP to print sum of series 1 – 2 + 3 – 4 + 5 – 6 + 7 ... n"
   ]
  },
  {
   "cell_type": "code",
   "execution_count": 16,
   "metadata": {},
   "outputs": [
    {
     "name": "stdout",
     "output_type": "stream",
     "text": [
      "enter the value of n for sum of 1 – 2 + 3 – 4 + 5 – 6 + 7 ... n:4\n",
      "sum  1 – 2 + 3 – 4 + 5 – 6 + 7 ... is : -2\n"
     ]
    }
   ],
   "source": [
    "n =int(input(\"enter the value of n for sum of 1 – 2 + 3 – 4 + 5 – 6 + 7 ... n:\"))\n",
    "number=0;\n",
    "sum=0;\n",
    "while number<=n:\n",
    "    if number%2==0:\n",
    "        sum=sum-number;\n",
    "    if number%2!=0:\n",
    "        sum=sum+number;\n",
    "    number=number+1;\n",
    "    \n",
    "print(\"sum  1 – 2 + 3 – 4 + 5 – 6 + 7 ... is :\" , sum)"
   ]
  },
  {
   "cell_type": "markdown",
   "metadata": {},
   "source": [
    "### 08) WAP to print multiplication table of given number."
   ]
  },
  {
   "cell_type": "code",
   "execution_count": 18,
   "metadata": {},
   "outputs": [
    {
     "name": "stdout",
     "output_type": "stream",
     "text": [
      "enter the value of n print the table of n:10\n",
      "10  *  1  =  10\n",
      "10  *  2  =  20\n",
      "10  *  3  =  30\n",
      "10  *  4  =  40\n",
      "10  *  5  =  50\n",
      "10  *  6  =  60\n",
      "10  *  7  =  70\n",
      "10  *  8  =  80\n",
      "10  *  9  =  90\n",
      "10  *  10  =  100\n"
     ]
    }
   ],
   "source": [
    "n =int(input(\"enter the value of n print the table of n:\"))\n",
    "number=1;\n",
    "while number<=10:\n",
    "    print(n , \" * \" , number , \" = \", number*n);\n",
    "    number=number+1"
   ]
  },
  {
   "cell_type": "markdown",
   "metadata": {},
   "source": [
    "### 09) WAP to find factorial of the given number"
   ]
  },
  {
   "cell_type": "code",
   "execution_count": 20,
   "metadata": {},
   "outputs": [
    {
     "name": "stdout",
     "output_type": "stream",
     "text": [
      "enter the value of n for the find the fecotorail of n number4\n",
      "you answer is : 24\n"
     ]
    }
   ],
   "source": [
    "n =int(input(\"enter the value of n for the find the fecotorail of n number\"))\n",
    "number=1;\n",
    "ans=1;\n",
    "while number<=n:\n",
    "    ans=ans*number;\n",
    "    number=number+1\n",
    "    \n",
    "print(\"you answer is :\", ans)"
   ]
  },
  {
   "cell_type": "markdown",
   "metadata": {},
   "source": [
    "### 10) WAP to find factors of the given number"
   ]
  },
  {
   "cell_type": "code",
   "execution_count": 22,
   "metadata": {},
   "outputs": [
    {
     "name": "stdout",
     "output_type": "stream",
     "text": [
      "enter the value of n for the find the factors of this number:10\n",
      "fectors are :\n",
      "1 2 5 10 "
     ]
    }
   ],
   "source": [
    "n =int(input(\"enter the value of n for the find the factors of this number:\"))\n",
    "number=1;\n",
    "print(\"fectors are :\")\n",
    "while number<=n:\n",
    "    if n%number==0:\n",
    "        print(number , end=\" \")\n",
    "    number=number+1;\n",
    "    \n"
   ]
  },
  {
   "cell_type": "markdown",
   "metadata": {},
   "source": [
    "### 11) WAP to find whether the given number is prime or not."
   ]
  },
  {
   "cell_type": "code",
   "execution_count": 30,
   "metadata": {},
   "outputs": [
    {
     "name": "stdout",
     "output_type": "stream",
     "text": [
      "enter the value of n for the number is prime or not:21\n",
      "numebr is not prime\n"
     ]
    }
   ],
   "source": [
    "n =int(input(\"enter the value of n for the number is prime or not:\"))\n",
    "number=2;\n",
    "flag=False;\n",
    "while number<n:\n",
    "    if n%number==0:\n",
    "        flag=True;\n",
    "    if(flag):\n",
    "        break;\n",
    "    number=number+1;\n",
    "    \n",
    "if(flag):\n",
    "    print(\"numebr is not prime\");\n",
    "else :\n",
    "    print(\"number is  prime\");"
   ]
  },
  {
   "cell_type": "markdown",
   "metadata": {},
   "source": [
    "### 12) WAP to print sum of digits of given number"
   ]
  },
  {
   "cell_type": "code",
   "execution_count": 33,
   "metadata": {},
   "outputs": [
    {
     "name": "stdout",
     "output_type": "stream",
     "text": [
      "enter the value of n for sum of digits of number:123\n",
      "sum of digits of : 6\n"
     ]
    }
   ],
   "source": [
    "n =int(input(\"enter the value of n for sum of digits of number:\"))\n",
    "number=0;\n",
    "ans=0;\n",
    "\n",
    "while n!=0:\n",
    "    number=n%10;\n",
    "    ans=ans+number;\n",
    "    n=int(n/10);\n",
    "print(\"sum of digits of :\"  ,ans);\n"
   ]
  },
  {
   "cell_type": "markdown",
   "metadata": {},
   "source": [
    "### 13) WAP to check whether the given number is palindrome or not"
   ]
  },
  {
   "cell_type": "code",
   "execution_count": 37,
   "metadata": {},
   "outputs": [
    {
     "name": "stdout",
     "output_type": "stream",
     "text": [
      "enter the value of n for givin number is palindrome or not:121\n",
      "121  is palindrome \n"
     ]
    }
   ],
   "source": [
    "n =int(input(\"enter the value of n for givin number is palindrome or not:\"))\n",
    "number=0;\n",
    "ans=0;\n",
    "temp=n;\n",
    "\n",
    "while n!=0:\n",
    "    number=n%10;\n",
    "    ans=ans*10+number;\n",
    "    n=int(n/10);\n",
    "    \n",
    "if ans==temp :\n",
    "    print(temp ,\" is palindrome \")\n",
    "else :\n",
    "    print(temp ,\" is not palnidrome\")\n"
   ]
  },
  {
   "cell_type": "markdown",
   "metadata": {},
   "source": [
    "### 01) WAP to check whether the given number is Armstrong or not."
   ]
  },
  {
   "cell_type": "code",
   "execution_count": 45,
   "metadata": {},
   "outputs": [
    {
     "name": "stdout",
     "output_type": "stream",
     "text": [
      "enter the value of n for givin number is Armstrong or not:1634\n",
      "1634 is Armstrong\n"
     ]
    }
   ],
   "source": [
    "n =input(\"enter the value of n for givin number is Armstrong or not:\")\n",
    "length=len(n);\n",
    "length\n",
    "temp=int(n);\n",
    "number=temp;\n",
    "i=0;\n",
    "ans=0;\n",
    "temp1=0;\n",
    "\n",
    "while temp!=0:\n",
    "    temp1=temp%10\n",
    "    ans=ans+temp1**length;\n",
    "    temp=int(temp/10);\n",
    "    \n",
    "if(number==ans):\n",
    "    print(number , \"is Armstrong\")\n",
    "else :\n",
    "    print(number , \"is not Armstrong\")\n",
    "    "
   ]
  },
  {
   "cell_type": "markdown",
   "metadata": {},
   "source": [
    "### 02) WAP to find out prime numbers between given two numbers."
   ]
  },
  {
   "cell_type": "code",
   "execution_count": 50,
   "metadata": {},
   "outputs": [
    {
     "name": "stdout",
     "output_type": "stream",
     "text": [
      "enter the value of n for the number is prime or not:20\n",
      "2\n",
      "3\n",
      "5\n",
      "7\n",
      "11\n",
      "13\n",
      "17\n",
      "19\n"
     ]
    }
   ],
   "source": [
    "n =int(input(\"enter the value of n for the number is prime or not:\"))\n",
    "number=2;\n",
    "temp=1;\n",
    "flag=False;\n",
    "for x in range(2 , n) :\n",
    "    for y in range(2,x):\n",
    "        if x%y==0:\n",
    "            flag=True;\n",
    "        if(flag):\n",
    "            break;\n",
    "    if(flag==False):\n",
    "        print(x);\n",
    "    flag=False;\n",
    "        \n"
   ]
  },
  {
   "cell_type": "markdown",
   "metadata": {},
   "source": [
    "### 03) WAP to calculate x^y without using any function."
   ]
  },
  {
   "cell_type": "code",
   "execution_count": 63,
   "metadata": {},
   "outputs": [
    {
     "name": "stdout",
     "output_type": "stream",
     "text": [
      "enter the value of x and y for the find x^y\n",
      " X :2\n",
      " Y :2\n",
      "answer of 2^2 is :4\n"
     ]
    }
   ],
   "source": [
    "print(\"enter the value of x and y for the find x^y\")\n",
    "x=int(input(\" X :\"))\n",
    "y=int(input(\" Y :\"))\n",
    "ans=1;\n",
    "for z in range (1,Y+1):\n",
    "    ans=ans*x;\n",
    "\n",
    "print(\"answer of \" , x,\"^\",y,\" is :\" , ans, sep='')\n",
    "\n"
   ]
  },
  {
   "cell_type": "markdown",
   "metadata": {},
   "source": [
    "### 04) WAP to check whether the given number is perfect or not.\n",
    "[Sum of factors including 1 excluding number itself]"
   ]
  },
  {
   "cell_type": "code",
   "execution_count": 67,
   "metadata": {},
   "outputs": [
    {
     "name": "stdout",
     "output_type": "stream",
     "text": [
      "enter the value of n of the check number is perfect or not:7\n",
      "7 is not perfect\n"
     ]
    }
   ],
   "source": [
    "number=int(input(\"enter the value of n of the check number is perfect or not:\" ))\n",
    "ans=0;\n",
    "for z in range (1,number):\n",
    "    if number%z==0:\n",
    "        ans=ans+z;\n",
    "if(number==ans):\n",
    "    print(number ,\"is perfect\")\n",
    "else :\n",
    "    print(number ,\"is not perfect\")"
   ]
  },
  {
   "cell_type": "markdown",
   "metadata": {},
   "source": [
    "### 05) WAP to find the sum of 1 + (1+2) + (1+2+3) + (1+2+3+4)+...+(1+2+3+4+....+n)"
   ]
  },
  {
   "cell_type": "code",
   "execution_count": 69,
   "metadata": {},
   "outputs": [
    {
     "name": "stdout",
     "output_type": "stream",
     "text": [
      "enter the value of n for the find sum of 1 + (1+2) + (1+2+3) + (1+2+3+4)+...+(1+2+3+4+....+n)4\n",
      "sum is : 20\n"
     ]
    }
   ],
   "source": [
    "number=int(input(\"enter the value of n for the find sum of 1 + (1+2) + (1+2+3) + (1+2+3+4)+...+(1+2+3+4+....+n)\"))\n",
    "ans=0\n",
    "for x in range(1, number+1):\n",
    "    for y in range(1,x+1):\n",
    "        ans=ans+y;\n",
    "print(\"sum is :\" ,ans)"
   ]
  },
  {
   "cell_type": "markdown",
   "metadata": {},
   "source": [
    "### 06) WAP to print Multiplication Table up to n"
   ]
  },
  {
   "cell_type": "code",
   "execution_count": 73,
   "metadata": {},
   "outputs": [
    {
     "name": "stdout",
     "output_type": "stream",
     "text": [
      "enter the number for multiplication table :12\n",
      "enter the value of n for multiplication table up to n :13\n",
      "12  *  1  =  12\n",
      "12  *  2  =  24\n",
      "12  *  3  =  36\n",
      "12  *  4  =  48\n",
      "12  *  5  =  60\n",
      "12  *  6  =  72\n",
      "12  *  7  =  84\n",
      "12  *  8  =  96\n",
      "12  *  9  =  108\n",
      "12  *  10  =  120\n",
      "12  *  11  =  132\n",
      "12  *  12  =  144\n",
      "12  *  13  =  156\n"
     ]
    }
   ],
   "source": [
    "number=int(input(\"enter the number for multiplication table :\"))\n",
    "number1=int(input(\"enter the value of n for multiplication table up to n :\"))\n",
    "for x in range(1, number1+1) :\n",
    "    print(number ,\" * \", x ,\" = \",number*x);\n"
   ]
  },
  {
   "cell_type": "code",
   "execution_count": null,
   "metadata": {},
   "outputs": [],
   "source": []
  }
 ],
 "metadata": {
  "kernelspec": {
   "display_name": "Python 3 (ipykernel)",
   "language": "python",
   "name": "python3"
  },
  "language_info": {
   "codemirror_mode": {
    "name": "ipython",
    "version": 3
   },
   "file_extension": ".py",
   "mimetype": "text/x-python",
   "name": "python",
   "nbconvert_exporter": "python",
   "pygments_lexer": "ipython3",
   "version": "3.9.13"
  }
 },
 "nbformat": 4,
 "nbformat_minor": 4
}
