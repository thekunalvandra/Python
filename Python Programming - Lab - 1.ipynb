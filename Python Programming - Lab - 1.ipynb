{
 "cells": [
  {
   "cell_type": "markdown",
   "metadata": {},
   "source": [
    "<a href='https://www.darshan.ac.in/'> <img src='https://www.darshan.ac.in/Content/media/DU_Logo.svg' width=\"250\" height=\"300\"/></a>\n",
    "<pre>\n",
    "<center><b><h1>Python Programming - 2101CS405</b></center>\n",
    "<center><b><h1>Lab - 1</b></center>    \n",
    "<pre>"
   ]
  },
  {
   "cell_type": "markdown",
   "metadata": {},
   "source": [
    "### 01) WAP to print “Hello World”"
   ]
  },
  {
   "cell_type": "code",
   "execution_count": 1,
   "metadata": {},
   "outputs": [
    {
     "name": "stdout",
     "output_type": "stream",
     "text": [
      "Hello World From Python\n"
     ]
    }
   ],
   "source": [
    "print(\"Hello World From Python\")"
   ]
  },
  {
   "cell_type": "markdown",
   "metadata": {},
   "source": [
    "### 02) WAP to print your address i) using single print ii) using multiple print"
   ]
  },
  {
   "cell_type": "code",
   "execution_count": 3,
   "metadata": {},
   "outputs": [
    {
     "name": "stdout",
     "output_type": "stream",
     "text": [
      "Vrajraj ,Street no-2 ,Bhaktinagar ,Rajkot ,Gujarat\n",
      "Vrajraj\n",
      "Bhaktinagar circle\n",
      "Rajkot\n",
      "Gujarat\n"
     ]
    }
   ],
   "source": [
    "#1\n",
    "print(\"Vrajraj ,Street no-2 ,Bhaktinagar ,Rajkot ,Gujarat\")\n",
    "#2\n",
    "print(\"Vrajraj\")\n",
    "print(\"Bhaktinagar circle\")\n",
    "print(\"Rajkot\")\n",
    "print(\"Gujarat\")"
   ]
  },
  {
   "cell_type": "markdown",
   "metadata": {},
   "source": [
    "### 03) WAP to print addition of 2 numbers (without input function)"
   ]
  },
  {
   "cell_type": "code",
   "execution_count": 2,
   "metadata": {},
   "outputs": [
    {
     "name": "stdout",
     "output_type": "stream",
     "text": [
      "sum of a and b is 5\n"
     ]
    }
   ],
   "source": [
    "a=2\n",
    "b=3\n",
    "sum=a+b\n",
    "print(\"sum of a and b is\",sum)"
   ]
  },
  {
   "cell_type": "markdown",
   "metadata": {},
   "source": [
    "### 04) WAP to calculate and print average of 2 numbers (without input function)"
   ]
  },
  {
   "cell_type": "code",
   "execution_count": 4,
   "metadata": {},
   "outputs": [
    {
     "name": "stdout",
     "output_type": "stream",
     "text": [
      "avg of a and b is 2.5\n"
     ]
    }
   ],
   "source": [
    "a=2\n",
    "b=3\n",
    "avg=(a+b)/2\n",
    "print(\"avg of a and b is\",avg)"
   ]
  },
  {
   "cell_type": "markdown",
   "metadata": {},
   "source": [
    "### 05) WAP to add two number entered by user."
   ]
  },
  {
   "cell_type": "code",
   "execution_count": 5,
   "metadata": {},
   "outputs": [
    {
     "name": "stdout",
     "output_type": "stream",
     "text": [
      "enter number a2\n",
      "enter number b3\n",
      "sum of a and b is 5\n"
     ]
    }
   ],
   "source": [
    "a=int(input(\"enter number a\"))\n",
    "b=int(input(\"enter number b\"))\n",
    "sum=a+b\n",
    "print(\"sum of a and b is\",sum)"
   ]
  },
  {
   "cell_type": "markdown",
   "metadata": {},
   "source": [
    "### 06) WAP to calculate simple interest."
   ]
  },
  {
   "cell_type": "code",
   "execution_count": 8,
   "metadata": {},
   "outputs": [
    {
     "name": "stdout",
     "output_type": "stream",
     "text": [
      "enter principal amount10000\n",
      "enter rate10\n",
      "enter time period1\n",
      "simple interest of follwing is 1000.0\n"
     ]
    }
   ],
   "source": [
    "p=int(input(\"enter principal amount\"))\n",
    "r=int(input(\"enter rate\"))\n",
    "t=int(input(\"enter time period\"))\n",
    "i=(p*r*t)/100\n",
    "print(\"simple interest of follwing is\",i)"
   ]
  },
  {
   "cell_type": "markdown",
   "metadata": {},
   "source": [
    "### 07) WAP Calculate Area and Circumfrence of Circle"
   ]
  },
  {
   "cell_type": "code",
   "execution_count": 10,
   "metadata": {},
   "outputs": [
    {
     "name": "stdout",
     "output_type": "stream",
     "text": [
      "Enter radius of circle2\n",
      "Area of circle is 12.56\n",
      "Enter radius of circle3\n",
      "Circumfrence of circle is 18.84\n"
     ]
    }
   ],
   "source": [
    "#1\n",
    "r=int(input(\"Enter radius of circle\"))\n",
    "a=(3.14*r*r)\n",
    "print(\"Area of circle is\",a)\n",
    "#2\n",
    "r=int(input(\"Enter radius of circle\"))\n",
    "a=(3.14*2*r)\n",
    "print(\"Circumfrence of circle is\",a)"
   ]
  },
  {
   "cell_type": "markdown",
   "metadata": {},
   "source": [
    "### 08) WAP to print Multiplication table of given number without using loops."
   ]
  },
  {
   "cell_type": "code",
   "execution_count": 11,
   "metadata": {},
   "outputs": [
    {
     "name": "stdout",
     "output_type": "stream",
     "text": [
      "Enter Number2\n",
      "2 * 1 = 2\n",
      "2 * 2 = 4\n",
      "2 * 3 = 6\n",
      "2 * 4 = 8\n",
      "2 * 5 = 10\n",
      "2 * 6 = 12\n",
      "2 * 7 = 14\n",
      "2 * 8 = 16\n",
      "2 * 9 = 18\n",
      "2 * 10 = 20\n"
     ]
    }
   ],
   "source": [
    "a=int(input(\"Enter Number\"))\n",
    "for x in range (1,11,1):\n",
    "    print(a,\"*\" , x ,\"=\",a*x)"
   ]
  },
  {
   "cell_type": "markdown",
   "metadata": {},
   "source": [
    "### 09) WAP to calculate Area of Triangle (hint: a = h * b * 0.5)"
   ]
  },
  {
   "cell_type": "code",
   "execution_count": 12,
   "metadata": {},
   "outputs": [
    {
     "name": "stdout",
     "output_type": "stream",
     "text": [
      "Enter height of triangle2\n",
      "Enter base of triangle3\n",
      "Area of triangle is 3.0\n"
     ]
    }
   ],
   "source": [
    "h=int(input(\"Enter height of triangle\"))\n",
    "b=int(input(\"Enter base of triangle\"))\n",
    "r=(0.5*h*b)\n",
    "print(\"Area of triangle is\",r)"
   ]
  },
  {
   "cell_type": "markdown",
   "metadata": {},
   "source": [
    "### 10) WAP to convert degree to Fahrenheit and vice versa."
   ]
  },
  {
   "cell_type": "code",
   "execution_count": 13,
   "metadata": {},
   "outputs": [
    {
     "name": "stdout",
     "output_type": "stream",
     "text": [
      "Enter in celsius20\n",
      "celsius to fahrenheit is 68.0\n",
      "Enter in fahrenheit68\n",
      "fahrenheit to celsius is 20.0\n"
     ]
    }
   ],
   "source": [
    "c=int(input(\"Enter in celsius\"))\n",
    "a=1.8*c+32\n",
    "print(\"celsius to fahrenheit is\",a)\n",
    "\n",
    "f=int(input(\"Enter in fahrenheit\"))\n",
    "b=(f-32)/1.8\n",
    "print(\"fahrenheit to celsius is\",b)"
   ]
  },
  {
   "cell_type": "markdown",
   "metadata": {},
   "source": [
    "### 11) WAP to calculate total marks and Percentage."
   ]
  },
  {
   "cell_type": "code",
   "execution_count": 15,
   "metadata": {},
   "outputs": [
    {
     "name": "stdout",
     "output_type": "stream",
     "text": [
      "Enter marks of maths20\n",
      "Enter marks of Science20\n",
      "Enter marks of english20\n",
      "Enter marks of computer20\n",
      "Enter marks of gujrati20\n",
      "total is 100\n",
      "percentage is  20.0 %\n"
     ]
    }
   ],
   "source": [
    "a=int(input(\"Enter marks of maths\"))\n",
    "b=int(input(\"Enter marks of Science\"))\n",
    "c=int(input(\"Enter marks of english\"))\n",
    "d=int(input(\"Enter marks of computer\"))\n",
    "e=int(input(\"Enter marks of gujrati\"))\n",
    "\n",
    "t=a+b+c+d+e\n",
    "print(\"total is\", t)\n",
    "p=t/5\n",
    "print(\"percentage is \",p,\"%\")"
   ]
  },
  {
   "cell_type": "markdown",
   "metadata": {},
   "source": [
    "### 12) Compute distance between two points taking input from the user (Pythagorean Theorem)."
   ]
  },
  {
   "cell_type": "code",
   "execution_count": 16,
   "metadata": {},
   "outputs": [
    {
     "name": "stdout",
     "output_type": "stream",
     "text": [
      "Enter value of X12\n",
      "Enter value of X23\n",
      "Enter value of Y13\n",
      "Enter value of Y22\n",
      "1.4142135623730951\n"
     ]
    }
   ],
   "source": [
    "X1=int(input(\"Enter value of X1\"))\n",
    "X2=int(input(\"Enter value of X2\"))\n",
    "Y1=int(input(\"Enter value of Y1\"))\n",
    "Y2=int(input(\"Enter value of Y2\"))\n",
    "\n",
    "a=(X2-X1)^2 + (Y2-Y1)^2\n",
    "b=a**0.5\n",
    "print(b)"
   ]
  },
  {
   "cell_type": "markdown",
   "metadata": {},
   "source": [
    "### 13) WAP to convert seconds into hours, minutes & seconds and print in HH:MM:SS\n",
    "[e.g. 10000 seconds mean 2:46:40 (2 Hours, 46 Minutes, 40Seconds)]"
   ]
  },
  {
   "cell_type": "code",
   "execution_count": 19,
   "metadata": {},
   "outputs": [
    {
     "name": "stdout",
     "output_type": "stream",
     "text": [
      "Enter time in Seconds60\n",
      "0.01666668\n",
      "1.000002\n"
     ]
    }
   ],
   "source": [
    "t=int(input(\"Enter time in Seconds\"))\n",
    "h=t*0.000277778\n",
    "print(h)\n",
    "m=t*0.0166667\n",
    "print(m)"
   ]
  },
  {
   "cell_type": "markdown",
   "metadata": {},
   "source": [
    "### 14) WAP to enter distance into kilometer and convert it into meter, feet,inches, and centimeter"
   ]
  },
  {
   "cell_type": "code",
   "execution_count": 21,
   "metadata": {},
   "outputs": [
    {
     "name": "stdout",
     "output_type": "stream",
     "text": [
      "Enter Kilometers1\n",
      "meters is 1000\n",
      "feet is 3280.8398950131\n",
      "inch is 39370.1\n",
      "centimeter is 100000\n"
     ]
    }
   ],
   "source": [
    "k=int(input(\"Enter Kilometers\"))\n",
    "m=k*1000\n",
    "print(\"meters is\",m)\n",
    "f=k*3280.8398950131\n",
    "print(\"feet is\",f)\n",
    "i=k*39370.1\n",
    "print(\"inch is\",i)\n",
    "c=k*100000\n",
    "print(\"centimeter is\",c)"
   ]
  },
  {
   "cell_type": "code",
   "execution_count": null,
   "metadata": {},
   "outputs": [],
   "source": []
  }
 ],
 "metadata": {
  "kernelspec": {
   "display_name": "Python 3 (ipykernel)",
   "language": "python",
   "name": "python3"
  },
  "language_info": {
   "codemirror_mode": {
    "name": "ipython",
    "version": 3
   },
   "file_extension": ".py",
   "mimetype": "text/x-python",
   "name": "python",
   "nbconvert_exporter": "python",
   "pygments_lexer": "ipython3",
   "version": "3.9.13"
  }
 },
 "nbformat": 4,
 "nbformat_minor": 4
}
